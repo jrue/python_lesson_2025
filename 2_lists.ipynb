{
 "cells": [
  {
   "cell_type": "markdown",
   "id": "6326e218",
   "metadata": {},
   "source": [
    "### Lists\n",
    "\n",
    "There is a special type of variable in Python called lists. It's pretty cool. It gives us the ability to store multiple values in a single variable. Let's take a look:"
   ]
  },
  {
   "cell_type": "code",
   "execution_count": null,
   "id": "b198de23",
   "metadata": {},
   "outputs": [],
   "source": [
    "months = [\"January\", \"February\", \"March\", \"April\", \"May\", \"June\", \"July\", \"August\", \"September\", \"October\", \"November\"]\n",
    "months"
   ]
  },
  {
   "cell_type": "markdown",
   "id": "f917db0d",
   "metadata": {},
   "source": [
    "Notice the output simply lists the values in the list. How do we recall a value? We use something called the **zero index**, which starts with zero as the first value, and so on?\n",
    "\n",
    "Take a guess, what will the following output?"
   ]
  },
  {
   "cell_type": "code",
   "execution_count": null,
   "id": "de5e9d09",
   "metadata": {},
   "outputs": [],
   "source": [
    "months.append('December')\n",
    "months"
   ]
  },
  {
   "cell_type": "code",
   "execution_count": null,
   "id": "0528f1a8",
   "metadata": {},
   "outputs": [],
   "source": [
    "months[0]"
   ]
  },
  {
   "cell_type": "markdown",
   "id": "e36a60a0",
   "metadata": {},
   "source": [
    "What about this one?"
   ]
  },
  {
   "cell_type": "code",
   "execution_count": null,
   "id": "442d1106",
   "metadata": {},
   "outputs": [],
   "source": [
    "months[1]"
   ]
  },
  {
   "cell_type": "markdown",
   "id": "702fc403",
   "metadata": {},
   "source": [
    "OK, one more time... before running this code, take a guess, what will this output?"
   ]
  },
  {
   "cell_type": "code",
   "execution_count": null,
   "id": "19334857",
   "metadata": {},
   "outputs": [],
   "source": [
    "months[5]"
   ]
  },
  {
   "cell_type": "markdown",
   "id": "e29336cc",
   "metadata": {},
   "source": [
    "There are also special commands called \"methods\" we can run on lists. \n",
    "\n",
    "Let's sort our list in alphabetical order. NOTE: unlike some other methods, the `sort()` method actually changes the variable."
   ]
  },
  {
   "cell_type": "code",
   "execution_count": null,
   "id": "cd49e024",
   "metadata": {},
   "outputs": [],
   "source": [
    "months.sort()\n",
    "months"
   ]
  },
  {
   "cell_type": "markdown",
   "id": "9c2dfe8c-cc0b-4ec0-bcec-be19a2e46629",
   "metadata": {},
   "source": [
    "Let's sort in reverse order from last to first."
   ]
  },
  {
   "cell_type": "code",
   "execution_count": null,
   "id": "b5ac844d-f7fd-449f-b457-f79ca6f96763",
   "metadata": {},
   "outputs": [],
   "source": [
    "months.sort(reverse=True)\n",
    "months"
   ]
  },
  {
   "cell_type": "markdown",
   "id": "a9330d95-18b5-4b2c-9a54-7444481508ce",
   "metadata": {},
   "source": [
    "So we permanently messed up the order of our months. How do we get the original order back? Well, just go back up to the first code cell and re-run it. "
   ]
  },
  {
   "cell_type": "code",
   "execution_count": null,
   "id": "9f7bc08b-6bcf-46b0-9b06-e1e443930236",
   "metadata": {},
   "outputs": [],
   "source": [
    "months"
   ]
  },
  {
   "cell_type": "markdown",
   "id": "195ca511",
   "metadata": {},
   "source": [
    "We can also extract a portion, or slice, of this list using special notation."
   ]
  },
  {
   "cell_type": "code",
   "execution_count": null,
   "id": "04cc38ea",
   "metadata": {},
   "outputs": [],
   "source": [
    "months[0:3]"
   ]
  },
  {
   "cell_type": "markdown",
   "id": "411517d7",
   "metadata": {},
   "source": [
    "Note that the zero referred to the first item, but the second number referrs to the item before the index. Here is a nifty guide to refer to if you ever forget:\n",
    "\n",
    "```python\n",
    "a[start:stop] # items start until stop - 1\n",
    "a[start:]     # items start then go through the rest of the list\n",
    "a[:stop]      # items from the beginning until stop - 1\n",
    "a[:]          # a copy of the whole list\n",
    "\n",
    "a[start:stop:step] # start, but do not past stop, by step\n",
    "```\n",
    "\n",
    "Try a few of these from above yourself in the next cell:"
   ]
  },
  {
   "cell_type": "code",
   "execution_count": null,
   "id": "aa539520-c288-4747-a869-429d62585e1c",
   "metadata": {},
   "outputs": [],
   "source": [
    "months[5:]"
   ]
  },
  {
   "cell_type": "code",
   "execution_count": null,
   "id": "056bb883-7f54-4de0-8ae0-bf16ff36b21d",
   "metadata": {},
   "outputs": [],
   "source": []
  }
 ],
 "metadata": {
  "kernelspec": {
   "display_name": "Python 3 (ipykernel)",
   "language": "python",
   "name": "python3"
  },
  "language_info": {
   "codemirror_mode": {
    "name": "ipython",
    "version": 3
   },
   "file_extension": ".py",
   "mimetype": "text/x-python",
   "name": "python",
   "nbconvert_exporter": "python",
   "pygments_lexer": "ipython3",
   "version": "3.12.1"
  }
 },
 "nbformat": 4,
 "nbformat_minor": 5
}
