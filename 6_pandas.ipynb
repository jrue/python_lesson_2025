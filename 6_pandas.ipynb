{
 "cells": [
  {
   "cell_type": "markdown",
   "id": "e31b317f",
   "metadata": {},
   "source": [
    "## Importing Libraries\n",
    "\n",
    "Okay, now that we have all of that out of the way, we will do some data stuff. The first thing we need to do is import some libraries. We will use the popular Pandas library, and also import Seaborn for doing some basic data visaulizations. These libraries were installed prior to this lesson, so you don't have to install them. But if you were doing this on your own, you'd need to install them before running the code below."
   ]
  },
  {
   "cell_type": "code",
   "execution_count": null,
   "id": "4a63d525",
   "metadata": {},
   "outputs": [],
   "source": [
    "import numpy as np\n",
    "import pandas as pd\n",
    "import seaborn as sns\n",
    "import matplotlib.pyplot as plt"
   ]
  },
  {
   "cell_type": "markdown",
   "id": "5143e53d",
   "metadata": {},
   "source": [
    "Now that we've imported our libraries, let's bring in our .csv file using pandas. Notice above, our Pandas library was stored in a variable called \"pd\" (short for Pandas). Technically, we could have specified anything for our Pandas library, but pd is the standard convention, so let's stick with that.\n",
    "\n",
    "Let's load in some data. We're going to load in a [dataset from the New York Times](https://github.com/nytimes/hhs-child-migrant-data) on all of the unaccompanied minors who enter the United States since 2015. It turns out that a significant number of immigrants, \n",
    "\n",
    "The reporter, Hannah Dreier, won a Pulitzer Prize for her work on this issue. This is the highest prize one can earn in journalism. [Read more about this issue here](https://www.pulitzer.org/winners/hannah-dreier-new-york-times). \n",
    "\n",
    "The **sponsor category** column is a number defined as:\n",
    "\n",
    "1. parent or legal guardian;\n",
    "2. immediate relative;\n",
    "3. distant relative or unrelated adult individual."
   ]
  },
  {
   "cell_type": "code",
   "execution_count": null,
   "id": "8be1eb33",
   "metadata": {},
   "outputs": [],
   "source": [
    "df = pd.read_csv(\"child-immigrant-data.csv\", dtype={\"Sponsor Zipcode\":str})"
   ]
  },
  {
   "cell_type": "markdown",
   "id": "f294c517",
   "metadata": {},
   "source": [
    "Now, let's take a look and see what it looks like. We can run the command `head()` on the variable to see the first five rows of data."
   ]
  },
  {
   "cell_type": "code",
   "execution_count": null,
   "id": "e96b6c48",
   "metadata": {},
   "outputs": [],
   "source": [
    "df.head()"
   ]
  },
  {
   "cell_type": "markdown",
   "id": "81cc70a5",
   "metadata": {},
   "source": [
    "We can also put a number in the parenthesis to specify a specific number of rows to show."
   ]
  },
  {
   "cell_type": "code",
   "execution_count": null,
   "id": "706eee99",
   "metadata": {},
   "outputs": [],
   "source": [
    "df.head(10)"
   ]
  },
  {
   "cell_type": "code",
   "execution_count": null,
   "id": "da3a7ebc-7fdf-4ebd-be15-5ad47c1548b1",
   "metadata": {},
   "outputs": [],
   "source": [
    "df.tail()"
   ]
  },
  {
   "cell_type": "code",
   "execution_count": null,
   "id": "98529117",
   "metadata": {},
   "outputs": [],
   "source": [
    "#describes the number of rows and columns\n",
    "df.shape"
   ]
  },
  {
   "cell_type": "markdown",
   "id": "f28b5f1d",
   "metadata": {},
   "source": [
    "### Interview Functions\n",
    "\n",
    "Let's interview our data. Here are some functions we can run. The \"df\" is a placeholder for your data. It's stands for \"data frame\" which is what we call this datatype when using Pandas.\n",
    "\n",
    "`df.head()` - get the first 5 rows of your data (or specify number)\n",
    "\n",
    "`df.tail()` - get the last 5 rows of your data (or specify number)\n",
    "\n",
    "`df.sample(5)` - get a random sampling of 5 rows of your data\n",
    "\n",
    "`df.columns` - get a list of all the columns\n",
    "\n",
    "`df.info()` - get number of rows with data and data type for each column \n",
    "\n",
    "`df.shape` - get the number of rows and columns\n",
    "\n",
    "`df.describe()` - get a variety of statistical calculations for all values in each column\n",
    "\n",
    "Let's take these functions for a spin:"
   ]
  },
  {
   "cell_type": "code",
   "execution_count": null,
   "id": "7a6b8dda",
   "metadata": {},
   "outputs": [],
   "source": [
    "df.columns"
   ]
  },
  {
   "cell_type": "code",
   "execution_count": null,
   "id": "b7e8c322-d856-4e82-8bbb-8bba4a35b5b2",
   "metadata": {},
   "outputs": [],
   "source": [
    "df.describe()"
   ]
  },
  {
   "cell_type": "code",
   "execution_count": null,
   "id": "960ea052-7829-439f-9c5d-f9e87795fbde",
   "metadata": {},
   "outputs": [],
   "source": [
    "df[[\"Child's Country of Origin\"]]"
   ]
  },
  {
   "cell_type": "code",
   "execution_count": null,
   "id": "1fb64fd3-7e45-466d-b7a7-d7d52ef23678",
   "metadata": {},
   "outputs": [],
   "source": [
    "df[[\"Length of Detention\"]].median()"
   ]
  },
  {
   "cell_type": "code",
   "execution_count": null,
   "id": "9546b4ec-2b62-49a0-98c4-7f8745c83064",
   "metadata": {},
   "outputs": [],
   "source": [
    "df[[\"Length of Detention\"]].mean()"
   ]
  },
  {
   "cell_type": "code",
   "execution_count": null,
   "id": "c6d12e1d-6d26-466f-b69b-e5b0b8397c26",
   "metadata": {},
   "outputs": [],
   "source": [
    "df[[\"Length of Detention\"]].max()"
   ]
  },
  {
   "cell_type": "code",
   "execution_count": null,
   "id": "ca386786-3989-45d3-9b98-8cc6f12cda30",
   "metadata": {},
   "outputs": [],
   "source": [
    "df[[\"Length of Detention\"]].min()"
   ]
  },
  {
   "cell_type": "code",
   "execution_count": null,
   "id": "85aa8126",
   "metadata": {},
   "outputs": [],
   "source": [
    "df[\"Child's Gender\"].value_counts()"
   ]
  },
  {
   "cell_type": "code",
   "execution_count": null,
   "id": "82eb272d-7d9a-4e2b-a415-dbc20946fda3",
   "metadata": {},
   "outputs": [],
   "source": [
    "df[\"Child's Country of Origin\"].value_counts()"
   ]
  },
  {
   "cell_type": "code",
   "execution_count": null,
   "id": "fb2d678c-6c3a-418c-9ebe-d3b26cb01b49",
   "metadata": {},
   "outputs": [],
   "source": [
    "df[\"Child's Country of Origin\"].value_counts().plot.barh()"
   ]
  },
  {
   "cell_type": "code",
   "execution_count": null,
   "id": "f779269a-643c-4370-bd40-65a0cc918d81",
   "metadata": {},
   "outputs": [],
   "source": [
    "df[\"Child's Country of Origin\"].value_counts()[0:10]"
   ]
  },
  {
   "cell_type": "code",
   "execution_count": null,
   "id": "261a2818",
   "metadata": {},
   "outputs": [],
   "source": [
    "ten_highest = df[\"Child's Country of Origin\"].value_counts()[0:10]\n",
    "ten_highest.plot.barh()"
   ]
  },
  {
   "cell_type": "code",
   "execution_count": null,
   "id": "d9424ac3-7330-402f-9e57-2fd5dad51707",
   "metadata": {},
   "outputs": [],
   "source": [
    "ten_highest.sort_values(ascending=True).plot.barh()"
   ]
  },
  {
   "cell_type": "code",
   "execution_count": null,
   "id": "aed36e5c-22ca-44da-a9e9-6e6c5852e697",
   "metadata": {},
   "outputs": [],
   "source": [
    "df[\"Length of Detention\"].plot.hist()"
   ]
  },
  {
   "cell_type": "code",
   "execution_count": null,
   "id": "197ab081-65a9-4fed-9e5d-b01398135937",
   "metadata": {},
   "outputs": [],
   "source": [
    "df[\"Length of Detention\"].plot.hist(bins=100)"
   ]
  },
  {
   "cell_type": "code",
   "execution_count": null,
   "id": "3934c61c-7195-4f79-8260-6566e030914d",
   "metadata": {},
   "outputs": [],
   "source": [
    "df[\"Length of Detention\"].describe()"
   ]
  },
  {
   "cell_type": "code",
   "execution_count": null,
   "id": "69bd462b-d790-41f5-b011-6328dacdd8d1",
   "metadata": {},
   "outputs": [],
   "source": [
    "df[df[\"Length of Detention\"] == 1747]"
   ]
  },
  {
   "cell_type": "code",
   "execution_count": null,
   "id": "3aa53ba4-3967-442a-8a60-e68dfddeadff",
   "metadata": {},
   "outputs": [],
   "source": [
    "df.groupby(\"Child's Date of Entry\")[\"Child's Date of Entry\"].value_counts().plot.line()"
   ]
  },
  {
   "cell_type": "code",
   "execution_count": null,
   "id": "81c06ef8-c70e-400f-9d25-b33c6d6c492b",
   "metadata": {},
   "outputs": [],
   "source": [
    "df[\"Child's Date of Entry\"]   = pd.to_datetime(df[\"Child's Date of Entry\"], format=\"%m/%d/%Y\")\n",
    "df[\"Child's Date of Release\"] = pd.to_datetime(df[\"Child's Date of Release\"], format=\"%m/%d/%Y\")\n",
    "df.head()"
   ]
  },
  {
   "cell_type": "code",
   "execution_count": null,
   "id": "ec2b24ef-47b6-4ec9-ae28-ceabfb1f6113",
   "metadata": {},
   "outputs": [],
   "source": [
    "df.groupby(\"Child's Date of Entry\")[\"Child's Date of Entry\"].value_counts().plot.line()"
   ]
  },
  {
   "cell_type": "code",
   "execution_count": null,
   "id": "2c05d86d-4f02-415a-9dc0-dfe4210d15e0",
   "metadata": {},
   "outputs": [],
   "source": []
  }
 ],
 "metadata": {
  "kernelspec": {
   "display_name": "Python 3 (ipykernel)",
   "language": "python",
   "name": "python3"
  },
  "language_info": {
   "codemirror_mode": {
    "name": "ipython",
    "version": 3
   },
   "file_extension": ".py",
   "mimetype": "text/x-python",
   "name": "python",
   "nbconvert_exporter": "python",
   "pygments_lexer": "ipython3",
   "version": "3.12.1"
  }
 },
 "nbformat": 4,
 "nbformat_minor": 5
}
