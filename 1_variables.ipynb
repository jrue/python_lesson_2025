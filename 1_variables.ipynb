{
 "cells": [
  {
   "cell_type": "markdown",
   "metadata": {},
   "source": [
    "## Introduction to Python \n",
    "\n",
    "Python is a programming language that can be used by journalists for analyzing data.\n",
    "\n",
    "### Start with variables\n",
    "\n",
    "We will start with learning about variables. A variable is like a container. You can assign a value. \n",
    "\n",
    "<img src=\"https://multimedia.report/images/classes/coding/assignment.gif\" alt=\"animation showing how variables work\" style=\"margin-left:0\">\n",
    "\n",
    "*Whatever is on the right side, will be stuffed into the left side.*\n",
    "\n",
    "Let's try it. Let's stuff the number 7 into x. Put your cursor in the box below, hold the shift key down, and press return."
   ]
  },
  {
   "cell_type": "code",
   "execution_count": null,
   "metadata": {},
   "outputs": [],
   "source": [
    "x = 7"
   ]
  },
  {
   "cell_type": "markdown",
   "metadata": {},
   "source": [
    "Next, let's see the output. We'll type just \"x\" by itself and Python will output its value. In each of these boxes, put your cursor in the box, hold down the shift key on your keyboard, and press return."
   ]
  },
  {
   "cell_type": "code",
   "execution_count": null,
   "metadata": {},
   "outputs": [],
   "source": [
    "x"
   ]
  },
  {
   "cell_type": "markdown",
   "metadata": {},
   "source": [
    "One shortcut, we can combine both statements into one, so that when we set a variable, we can immediately see its output. Let's try:"
   ]
  },
  {
   "cell_type": "code",
   "execution_count": null,
   "metadata": {},
   "outputs": [],
   "source": [
    "k = 5\n",
    "k"
   ]
  },
  {
   "cell_type": "markdown",
   "metadata": {},
   "source": [
    "This is common in the tasks we'll do later. We'll list a variable by itself immediately after we set it so that it will show us the output.\n",
    "\n",
    "Here is something else we can do, we can replace the value in variables. When we do, it takes its most recent assignment."
   ]
  },
  {
   "cell_type": "code",
   "execution_count": null,
   "metadata": {},
   "outputs": [],
   "source": [
    "j = 3\n",
    "j = 5\n",
    "j"
   ]
  },
  {
   "cell_type": "markdown",
   "metadata": {},
   "source": [
    "Notice how j is equal to 5 and not three. We replaced its value by assigning a new value.\n",
    "\n",
    "By the way, how is that x doing?"
   ]
  },
  {
   "cell_type": "code",
   "execution_count": null,
   "metadata": {},
   "outputs": [],
   "source": [
    "x"
   ]
  },
  {
   "cell_type": "markdown",
   "metadata": {},
   "source": [
    "Yes, it's still 7. So variables will carry on from other cells. Once we run the cell (box) it's set. Go back up to the first cell we ran (where we set it to 7) and change the value to 10 and run it again. Then come back here and run the cell below."
   ]
  },
  {
   "cell_type": "code",
   "execution_count": null,
   "metadata": {},
   "outputs": [],
   "source": [
    "x"
   ]
  },
  {
   "cell_type": "markdown",
   "metadata": {},
   "source": [
    "So, the order of operations matters. The order in which we run each Python line of code makes a difference. Notice those numbers beside each cell? That describes the order we ran each cell so we can keep track of what was done. \n",
    "\n",
    "Next, let's see how we can assign variables to other variables."
   ]
  },
  {
   "cell_type": "code",
   "execution_count": null,
   "metadata": {},
   "outputs": [],
   "source": [
    "x = 3\n",
    "y = x\n",
    "y"
   ]
  },
  {
   "cell_type": "markdown",
   "metadata": {},
   "source": [
    "Note how we assigned 3 to x, then we assigned the *value* of x to y. Why didn't the output simply say \"y\"? Because that's a different datatype. That's a string. Let's try it one more time."
   ]
  },
  {
   "cell_type": "code",
   "execution_count": null,
   "metadata": {},
   "outputs": [],
   "source": [
    "x = 3\n",
    "y = \"x\"\n",
    "y"
   ]
  },
  {
   "cell_type": "markdown",
   "metadata": {},
   "source": [
    "Ah hah! We assigned text string \"x\" to y, so y now stores the value of a piece of text. If we left the quotes off, it would assign the *value* of x rather than the string \"x\". Important distinction.\n",
    "\n",
    "Here are some other things we can do:"
   ]
  },
  {
   "cell_type": "code",
   "execution_count": null,
   "metadata": {},
   "outputs": [],
   "source": [
    "x = 2 + 2\n",
    "x"
   ]
  },
  {
   "cell_type": "code",
   "execution_count": null,
   "metadata": {},
   "outputs": [],
   "source": [
    "x = 5\n",
    "y = 1\n",
    "j = x + y\n",
    "j"
   ]
  },
  {
   "cell_type": "markdown",
   "metadata": {},
   "source": [
    "Let's try something different. What would happen if we added two strings together? Any guesses? Guess what might happen before we run the code below. The run it to see if you were right."
   ]
  },
  {
   "cell_type": "code",
   "execution_count": null,
   "metadata": {},
   "outputs": [],
   "source": [
    "firstname  = \"Jeremy\"\n",
    "middlename = \"Sanchez\"\n",
    "lastname   = \"Rue\"\n",
    "fullname   = firstname + middlename + lastname\n",
    "fullname"
   ]
  },
  {
   "cell_type": "markdown",
   "metadata": {},
   "source": [
    "As we can see, we connected both names together but we need a space. Let's redo this and add a space. If we simply reassign the fullname variable, we'll replace its old value. "
   ]
  },
  {
   "cell_type": "code",
   "execution_count": null,
   "metadata": {},
   "outputs": [],
   "source": [
    "fullname = firstname + \" \" + middlename + \" \" + lastname\n",
    "fullname"
   ]
  },
  {
   "cell_type": "markdown",
   "metadata": {},
   "source": [
    "Much better. Let's try running some methods on our variable. Let's try using the `.upper()` method, which converts every letter to an uppercase letter."
   ]
  },
  {
   "cell_type": "code",
   "execution_count": null,
   "metadata": {},
   "outputs": [],
   "source": [
    "fullname.upper()"
   ]
  },
  {
   "cell_type": "markdown",
   "metadata": {},
   "source": [
    "Neat. But, it's important to note that we didn't actually change the fullname variable itself. The method modified the text, but unless we specifically reassign it, the variable retains its old value."
   ]
  },
  {
   "cell_type": "code",
   "execution_count": null,
   "metadata": {},
   "outputs": [],
   "source": [
    "fullname"
   ]
  },
  {
   "cell_type": "markdown",
   "metadata": {},
   "source": [
    "Let's try assigning the variable to that we actually convert it to lowercase using the `.lower()` method."
   ]
  },
  {
   "cell_type": "code",
   "execution_count": null,
   "metadata": {},
   "outputs": [],
   "source": [
    "fullname = fullname.lower()\n",
    "fullname"
   ]
  },
  {
   "cell_type": "markdown",
   "metadata": {},
   "source": [
    "Now we have actually changed the variable. \n",
    "\n",
    "Let's just look at some other methods we can run. This one capitalizes the first letter of the whole string."
   ]
  },
  {
   "cell_type": "code",
   "execution_count": null,
   "metadata": {},
   "outputs": [],
   "source": [
    "fullname.capitalize()"
   ]
  },
  {
   "cell_type": "markdown",
   "metadata": {},
   "source": [
    "The `.title()` method will captialize every word in the string."
   ]
  },
  {
   "cell_type": "code",
   "execution_count": null,
   "metadata": {},
   "outputs": [],
   "source": [
    "fullname.title()"
   ]
  },
  {
   "cell_type": "markdown",
   "metadata": {},
   "source": [
    "The `.replace(\"[search]\", \"[replacement]\")` method will replace every occurance the first argument with the second argument."
   ]
  },
  {
   "cell_type": "code",
   "execution_count": null,
   "metadata": {},
   "outputs": [],
   "source": [
    "fullname.replace(\"rue\", \"roo\")\n"
   ]
  },
  {
   "cell_type": "markdown",
   "metadata": {},
   "source": [
    "The `count()` method will count occurances of this string."
   ]
  },
  {
   "cell_type": "code",
   "execution_count": null,
   "metadata": {},
   "outputs": [],
   "source": [
    "fullname.count(\"e\")"
   ]
  },
  {
   "cell_type": "markdown",
   "metadata": {},
   "source": [
    "Try some of your own below:"
   ]
  },
  {
   "cell_type": "code",
   "execution_count": null,
   "metadata": {},
   "outputs": [],
   "source": []
  }
 ],
 "metadata": {
  "kernelspec": {
   "display_name": "Python 3 (ipykernel)",
   "language": "python",
   "name": "python3"
  },
  "language_info": {
   "codemirror_mode": {
    "name": "ipython",
    "version": 3
   },
   "file_extension": ".py",
   "mimetype": "text/x-python",
   "name": "python",
   "nbconvert_exporter": "python",
   "pygments_lexer": "ipython3",
   "version": "3.13.2"
  }
 },
 "nbformat": 4,
 "nbformat_minor": 4
}
