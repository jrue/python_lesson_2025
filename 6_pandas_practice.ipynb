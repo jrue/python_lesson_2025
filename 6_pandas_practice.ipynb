{
 "cells": [
  {
   "cell_type": "markdown",
   "id": "fb720eeb-8009-4fb5-9be9-f3a553ec839a",
   "metadata": {},
   "source": [
    "First, let's import the libraries we'll be using for this lesson."
   ]
  },
  {
   "cell_type": "code",
   "execution_count": null,
   "id": "b2ee7acf-23ef-4289-9bba-17c754ac9cd0",
   "metadata": {},
   "outputs": [],
   "source": [
    "import numpy as np\n",
    "import pandas as pd\n",
    "import seaborn as sns\n",
    "import matplotlib.pyplot as plt\n",
    "\n",
    "# supress scientific notation (exponents)\n",
    "pd.set_option('display.float_format', lambda x: '%.3f' % x)\n",
    "plt.rcParams[\"axes.formatter.limits\"] = (-5, 12)"
   ]
  },
  {
   "cell_type": "markdown",
   "id": "925ccb47-1178-432e-b7ba-6bedc222c7a7",
   "metadata": {},
   "source": [
    "Next, let's load in some data. We'll use the `read_csv` method."
   ]
  },
  {
   "cell_type": "code",
   "execution_count": null,
   "id": "bac6b75c-bbe5-464c-ab73-7269d56507de",
   "metadata": {},
   "outputs": [],
   "source": [
    "df = pd.read_csv(\"mlb-salaries-2023.csv\")"
   ]
  },
  {
   "cell_type": "markdown",
   "id": "9e1a96e9-8c3e-4f87-8c04-8cecb7adaa5f",
   "metadata": {},
   "source": [
    "Let's take a peek and see what the top rows show us:"
   ]
  },
  {
   "cell_type": "code",
   "execution_count": null,
   "id": "b3275cc9-89e7-4e3f-83f0-f1d560367a52",
   "metadata": {},
   "outputs": [],
   "source": [
    "df.head()"
   ]
  },
  {
   "cell_type": "markdown",
   "id": "1350fe2a-47a4-43cf-8d59-8b65b9f3e44e",
   "metadata": {},
   "source": [
    "## How many columns and rows in this dataset?"
   ]
  },
  {
   "cell_type": "code",
   "execution_count": null,
   "id": "e99dd395-0248-4a7f-8704-3732e977a84e",
   "metadata": {},
   "outputs": [],
   "source": [
    "df.shape"
   ]
  },
  {
   "cell_type": "markdown",
   "id": "d7400e9c-1b49-4931-ad92-994f12458213",
   "metadata": {},
   "source": [
    "### Let's see some descriptive statistics on the salary column"
   ]
  },
  {
   "cell_type": "code",
   "execution_count": null,
   "id": "ace8d7f4-e3ce-4e7c-9164-f9958b41132b",
   "metadata": {},
   "outputs": [],
   "source": [
    "df[\"salary\"].describe()"
   ]
  },
  {
   "cell_type": "markdown",
   "id": "8998c90b-793a-478e-b5ae-d642467e7e52",
   "metadata": {},
   "source": [
    "### Let's see some individual descriptive statistics on salary column"
   ]
  },
  {
   "cell_type": "code",
   "execution_count": null,
   "id": "e1450ab5-5cb1-4625-aa04-c793b6dc86dd",
   "metadata": {},
   "outputs": [],
   "source": [
    "df[\"salary\"].mean()"
   ]
  },
  {
   "cell_type": "code",
   "execution_count": null,
   "id": "f5ef4193-bdc2-4eb2-9f48-f97341dc4721",
   "metadata": {},
   "outputs": [],
   "source": [
    "df[\"salary\"].median()"
   ]
  },
  {
   "cell_type": "code",
   "execution_count": null,
   "id": "05f3d34d-68cc-4b95-b43a-9c8fda833766",
   "metadata": {},
   "outputs": [],
   "source": [
    "df[\"salary\"].mode()"
   ]
  },
  {
   "cell_type": "code",
   "execution_count": null,
   "id": "a428eabc-42db-4af3-8b60-cbbcbeefba93",
   "metadata": {},
   "outputs": [],
   "source": [
    "df[\"salary\"].max()"
   ]
  },
  {
   "cell_type": "code",
   "execution_count": null,
   "id": "2d24bac9-4245-4f4a-812f-c1a099724ece",
   "metadata": {},
   "outputs": [],
   "source": [
    "df[\"salary\"].min()"
   ]
  },
  {
   "cell_type": "code",
   "execution_count": null,
   "id": "d555a83f-917e-4207-955a-672b64e7aac2",
   "metadata": {},
   "outputs": [],
   "source": [
    "# count values\n",
    "df[\"salary\"].count()"
   ]
  },
  {
   "cell_type": "code",
   "execution_count": null,
   "id": "7b63cbd8-d4e0-4ea4-b6f9-f02afe1f89d2",
   "metadata": {},
   "outputs": [],
   "source": [
    "df[\"salary\"].sum()"
   ]
  },
  {
   "cell_type": "markdown",
   "id": "74bec2c9-8c6b-4476-9ade-8c06b2824e9d",
   "metadata": {},
   "source": [
    "### Let's see how all of the unique positions there are in the position column"
   ]
  },
  {
   "cell_type": "code",
   "execution_count": null,
   "id": "6045776c-4f50-412e-ac3d-82eb82082d43",
   "metadata": {},
   "outputs": [],
   "source": [
    "df[\"position\"].unique()"
   ]
  },
  {
   "cell_type": "markdown",
   "id": "71aa5548-7e57-48a1-ad0f-455076f8dbc9",
   "metadata": {},
   "source": [
    "### Let's see which positions are most represented in this dataset by counting them"
   ]
  },
  {
   "cell_type": "code",
   "execution_count": null,
   "id": "70ba9260-14ad-4bb0-9a5b-e09af977e075",
   "metadata": {},
   "outputs": [],
   "source": [
    "df[\"position\"].value_counts()"
   ]
  },
  {
   "cell_type": "markdown",
   "id": "d35563af-fafc-4d28-ae83-fd593cfc7314",
   "metadata": {},
   "source": [
    "### Let's use \"groupby\" method to find out which team pays the most (total, median, mean)"
   ]
  },
  {
   "cell_type": "code",
   "execution_count": null,
   "id": "9545f264-5f66-4600-b0d5-4d95bee37acb",
   "metadata": {},
   "outputs": [],
   "source": [
    "# This uses sum() to give the TOTAL the amount of salary paid to all of each team's players.\n",
    "df.groupby(\"team\")[\"salary\"].sum().sort_values(ascending=False)"
   ]
  },
  {
   "cell_type": "markdown",
   "id": "44afea1c-526b-48f7-86d1-fa37af1b2735",
   "metadata": {},
   "source": [
    "### Which team has the highest median salary?"
   ]
  },
  {
   "cell_type": "code",
   "execution_count": null,
   "id": "0cb8c9a5-7361-4179-a3df-0119609264c5",
   "metadata": {},
   "outputs": [],
   "source": [
    "# this uses median() to find out which team pays the highest MEDIAN salary.\n",
    "df.groupby(\"team\")[\"salary\"].median().sort_values(ascending=False)"
   ]
  },
  {
   "cell_type": "markdown",
   "id": "e03a7449-a884-42b2-b3df-bc2c7aa799ac",
   "metadata": {},
   "source": [
    "### Which team has the highest average (mean) salary?"
   ]
  },
  {
   "cell_type": "code",
   "execution_count": null,
   "id": "c5e69950-5467-4e20-8090-94781ab66770",
   "metadata": {},
   "outputs": [],
   "source": [
    "# this uses mean() to find which team has the highest AVERAGE (MEAN) salary.\n",
    "df.groupby(\"team\")[\"salary\"].mean().sort_values(ascending=False)"
   ]
  },
  {
   "cell_type": "markdown",
   "id": "2ecd3c31-7174-4b05-95e3-3745b028f8a1",
   "metadata": {},
   "source": [
    "### Let's use \"groupby\" method to find out which position receives the most total dollars in all of the league?"
   ]
  },
  {
   "cell_type": "code",
   "execution_count": null,
   "id": "458a3e2c-f101-4492-a5da-694aa1e418ee",
   "metadata": {},
   "outputs": [],
   "source": [
    "df.groupby(\"position\")[\"salary\"].sum().sort_values(ascending=False)"
   ]
  },
  {
   "cell_type": "markdown",
   "id": "db0f3338-d774-4553-9b28-7d8c50087b85",
   "metadata": {},
   "source": [
    "### Which position has the highest median salary?"
   ]
  },
  {
   "cell_type": "code",
   "execution_count": null,
   "id": "b3462f6c-9ade-410b-b4bc-2a198d63788c",
   "metadata": {},
   "outputs": [],
   "source": [
    "df.groupby(\"position\")[\"salary\"].median().sort_values(ascending=False)"
   ]
  },
  {
   "cell_type": "markdown",
   "id": "b122457f-4b82-47f4-99b4-c612a53ab457",
   "metadata": {},
   "source": [
    "### Let's try filtering. Show me only the designated hitters (DH)"
   ]
  },
  {
   "cell_type": "code",
   "execution_count": null,
   "id": "54b0e8c1-60de-4e4f-845e-e88caadcfc9e",
   "metadata": {},
   "outputs": [],
   "source": [
    "df[ df[\"position\"] == \"DH\" ]"
   ]
  },
  {
   "cell_type": "markdown",
   "id": "8b17b736-9e67-48db-88bd-3b5f9db04d81",
   "metadata": {},
   "source": [
    "### Show me players with more than \\\\$35 million salary"
   ]
  },
  {
   "cell_type": "code",
   "execution_count": null,
   "id": "91bc04fa-5663-4689-904e-d90d74ff814f",
   "metadata": {},
   "outputs": [],
   "source": [
    "df[ df[\"salary\"] > 35000000]"
   ]
  },
  {
   "cell_type": "markdown",
   "id": "c2d221aa-4c64-4ff2-ac64-5139e82b3508",
   "metadata": {},
   "source": [
    "### Show me only the last names and salary of the players with more that \\\\$35 million salary"
   ]
  },
  {
   "cell_type": "code",
   "execution_count": null,
   "id": "757429e1-d77e-4350-9f81-84ce432366e9",
   "metadata": {},
   "outputs": [],
   "source": [
    "df[ df[\"salary\"] > 35000000][[\"name_last\",\"salary\"]]"
   ]
  },
  {
   "cell_type": "markdown",
   "id": "742bdd90-4ccf-48dc-9058-be89550b2a4d",
   "metadata": {},
   "source": [
    "### Show me players with a salary between \\\\$1 million and \\\\$1.2 million"
   ]
  },
  {
   "cell_type": "code",
   "execution_count": null,
   "id": "240f37fc-e3fd-44b4-abbb-8a572cd42580",
   "metadata": {},
   "outputs": [],
   "source": [
    "df[ (df[\"salary\"] > 1000000) & (df[\"salary\"] < 1200000)]"
   ]
  },
  {
   "cell_type": "markdown",
   "id": "60e4ab35-9130-4ebc-b0d8-6bf87cc7bb88",
   "metadata": {},
   "source": [
    "### Show me only San Francisco players (top 10 rows)"
   ]
  },
  {
   "cell_type": "code",
   "execution_count": null,
   "id": "702d4f75-e119-4c0c-adb5-6c934246f1dd",
   "metadata": {},
   "outputs": [],
   "source": [
    "df[ df[\"team\"] == \"San Francisco\" ].head(10)"
   ]
  },
  {
   "cell_type": "markdown",
   "id": "0ca6061a-6ee2-4217-bb48-99be95fe0bb5",
   "metadata": {},
   "source": [
    "### Show me the median salary of San Francisco players"
   ]
  },
  {
   "cell_type": "code",
   "execution_count": null,
   "id": "51d86b67-1a3d-4f28-ad8f-f5bf4bda88bf",
   "metadata": {},
   "outputs": [],
   "source": [
    "df[ df[\"team\"] == \"San Francisco\" ][\"salary\"].median()"
   ]
  },
  {
   "cell_type": "markdown",
   "id": "28794891-f37e-4453-83af-b3a08894dd46",
   "metadata": {},
   "source": [
    "### Show me the position count of San Francisco"
   ]
  },
  {
   "cell_type": "code",
   "execution_count": null,
   "id": "9fff52e3-9fee-4100-951a-0f62273e19a8",
   "metadata": {},
   "outputs": [],
   "source": [
    "df[ df[\"team\"] == \"San Francisco\" ][\"position\"].value_counts()"
   ]
  },
  {
   "cell_type": "markdown",
   "id": "b47cee40-b27a-4812-9c96-dc968cdfcdea",
   "metadata": {},
   "source": [
    "### Show me the lowest amount a pitcher in the MLB receives"
   ]
  },
  {
   "cell_type": "code",
   "execution_count": null,
   "id": "09ac803a-1a6d-4594-9966-39022887c42b",
   "metadata": {},
   "outputs": [],
   "source": [
    "df [ df[\"position\"] == \"P\" ][\"salary\"].min()"
   ]
  },
  {
   "cell_type": "markdown",
   "id": "e6e9ee79-e54e-489d-8c97-860b07921aa4",
   "metadata": {},
   "source": [
    "### Show me the lowest paid pitchers"
   ]
  },
  {
   "cell_type": "code",
   "execution_count": null,
   "id": "cfe607bb-5f10-414f-b126-f7ca142f71cd",
   "metadata": {},
   "outputs": [],
   "source": [
    "df [ (df[\"salary\"] == 720000) & (df[\"position\"] == \"P\") ]"
   ]
  },
  {
   "cell_type": "markdown",
   "id": "6a4f103a-85cf-4852-a1b6-43371ffd66c5",
   "metadata": {},
   "source": [
    "### Show me a histogram of the salaries in this dataset with 15 bins\n",
    "\n",
    "xlabel argument is optional, but allows you to put a label under your chart. ylabel is also available"
   ]
  },
  {
   "cell_type": "code",
   "execution_count": null,
   "id": "1a0a53bd-d107-4a14-8746-20e4fac115bc",
   "metadata": {},
   "outputs": [],
   "source": [
    "df[\"salary\"].plot.hist(bins=15, xlabel=\"Salary\")"
   ]
  },
  {
   "cell_type": "markdown",
   "id": "da76face-fff4-483f-90de-cf4f22d72436",
   "metadata": {},
   "source": [
    "### Make a horizontal bar chart of median salaries by team (groupby) Sort the values. "
   ]
  },
  {
   "cell_type": "code",
   "execution_count": null,
   "id": "e6213ee1-3e09-4cae-9b27-4ae9b9643f0f",
   "metadata": {},
   "outputs": [],
   "source": [
    "df.groupby(\"team\")[\"salary\"].median().sort_values(ascending=True).plot.barh()"
   ]
  },
  {
   "cell_type": "code",
   "execution_count": null,
   "id": "443178d5-b092-47f2-85df-09d324ae5937",
   "metadata": {},
   "outputs": [],
   "source": []
  }
 ],
 "metadata": {
  "kernelspec": {
   "display_name": "Python 3 (ipykernel)",
   "language": "python",
   "name": "python3"
  },
  "language_info": {
   "codemirror_mode": {
    "name": "ipython",
    "version": 3
   },
   "file_extension": ".py",
   "mimetype": "text/x-python",
   "name": "python",
   "nbconvert_exporter": "python",
   "pygments_lexer": "ipython3",
   "version": "3.12.1"
  }
 },
 "nbformat": 4,
 "nbformat_minor": 5
}
