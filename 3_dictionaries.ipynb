{
 "cells": [
  {
   "cell_type": "code",
   "execution_count": null,
   "id": "9cc0b4b5-5ed1-4886-bd2d-b88c30ea41b2",
   "metadata": {},
   "outputs": [],
   "source": []
  },
  {
   "cell_type": "markdown",
   "id": "ad16c766",
   "metadata": {},
   "source": [
    "### Dictionaries\n",
    "\n",
    "The next datatype is dictionaries. Dictionaries are similar to JSON, which we'll go over later in class. \n",
    "\n",
    "The important thing to know about dictionaries is they store values by properties called \"keys\" (similar to CSS)."
   ]
  },
  {
   "cell_type": "code",
   "execution_count": null,
   "id": "00a3dffe",
   "metadata": {},
   "outputs": [],
   "source": [
    "# Curly braces! Not brackets \n",
    "\n",
    "my_dictionary = { \n",
    "    \"city\": \"Berkeley\", \n",
    "    \"state\": \"California\", \n",
    "    \"county\": \"Alameda\", \n",
    "    \"zip\": 94720\n",
    "}\n",
    "\n",
    "my_dictionary"
   ]
  },
  {
   "cell_type": "markdown",
   "id": "e370b612",
   "metadata": {},
   "source": [
    "We can recall any value by its keys using notation similar to lists, but putting the property string instead of an index."
   ]
  },
  {
   "cell_type": "code",
   "execution_count": null,
   "id": "46da728a",
   "metadata": {},
   "outputs": [],
   "source": [
    "my_dictionary[\"city\"]"
   ]
  },
  {
   "cell_type": "markdown",
   "id": "a4f9f16b-6f25-49a9-822f-6945ebdb2c2c",
   "metadata": {},
   "source": [
    "Let's see the number of the Zip code:"
   ]
  },
  {
   "cell_type": "code",
   "execution_count": null,
   "id": "6bfc6808",
   "metadata": {},
   "outputs": [],
   "source": [
    "my_dictionary[\"zip\"]"
   ]
  },
  {
   "cell_type": "markdown",
   "id": "f2b92369-94f5-41df-a089-e0714d6f9e73",
   "metadata": {},
   "source": [
    "### Methods you can run on Dictionaries\n",
    "\n",
    "There are some methods you can run on dictionary variables. This one shows you all of the keys (properties) that you can use to recall data."
   ]
  },
  {
   "cell_type": "code",
   "execution_count": null,
   "id": "a0e3cf76",
   "metadata": {},
   "outputs": [],
   "source": [
    "my_dictionary.keys()"
   ]
  },
  {
   "cell_type": "markdown",
   "id": "dc7c1bb5-fafc-402a-b0e8-831a68b18761",
   "metadata": {},
   "source": [
    "This one shows you all of the values."
   ]
  },
  {
   "cell_type": "code",
   "execution_count": null,
   "id": "db1edf17",
   "metadata": {},
   "outputs": [],
   "source": [
    "my_dictionary.values()"
   ]
  }
 ],
 "metadata": {
  "kernelspec": {
   "display_name": "Python 3 (ipykernel)",
   "language": "python",
   "name": "python3"
  },
  "language_info": {
   "codemirror_mode": {
    "name": "ipython",
    "version": 3
   },
   "file_extension": ".py",
   "mimetype": "text/x-python",
   "name": "python",
   "nbconvert_exporter": "python",
   "pygments_lexer": "ipython3",
   "version": "3.13.2"
  }
 },
 "nbformat": 4,
 "nbformat_minor": 5
}
