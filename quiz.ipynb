{
 "cells": [
  {
   "cell_type": "markdown",
   "id": "af63ee6a-4af4-4847-99ff-1a535aae137a",
   "metadata": {},
   "source": [
    "# Practice Quiz\n",
    "\n",
    "Follow the instructions below before each cell. "
   ]
  },
  {
   "cell_type": "code",
   "execution_count": 1,
   "id": "2d4a6e24-bb94-491c-96b4-2b4ab897eac5",
   "metadata": {},
   "outputs": [],
   "source": [
    "# run this cell to load in appropriate libraries.\n",
    "import numpy as np\n",
    "import pandas as pd\n",
    "import seaborn as sns\n",
    "import matplotlib.pyplot as plt\n",
    "\n",
    "# supress scientific notation (exponents)\n",
    "pd.set_option('display.float_format', lambda x: '%.3f' % x)"
   ]
  },
  {
   "cell_type": "markdown",
   "id": "6aa7c9e7-2cb0-4c43-a433-00f4afcd7a75",
   "metadata": {},
   "source": [
    "### Load in the CSV file used for this homework quiz\n",
    "\n",
    "Run the cell below, you won't have to make any modifications. "
   ]
  },
  {
   "cell_type": "code",
   "execution_count": 2,
   "id": "a2fe4b56-547b-493d-adc8-3a8907703640",
   "metadata": {},
   "outputs": [],
   "source": [
    "df = pd.read_csv(\"college-enrollment-demographics.csv\")"
   ]
  },
  {
   "cell_type": "markdown",
   "id": "299f199b-a02d-43bb-bd02-d5a17cdc7c35",
   "metadata": {},
   "source": [
    "### Look at the top 5 rows of this dataset"
   ]
  },
  {
   "cell_type": "code",
   "execution_count": 3,
   "id": "9461ba80-ffa4-48b8-82e0-d52e830521ec",
   "metadata": {},
   "outputs": [
    {
     "data": {
      "text/html": [
       "<div>\n",
       "<style scoped>\n",
       "    .dataframe tbody tr th:only-of-type {\n",
       "        vertical-align: middle;\n",
       "    }\n",
       "\n",
       "    .dataframe tbody tr th {\n",
       "        vertical-align: top;\n",
       "    }\n",
       "\n",
       "    .dataframe thead th {\n",
       "        text-align: right;\n",
       "    }\n",
       "</style>\n",
       "<table border=\"1\" class=\"dataframe\">\n",
       "  <thead>\n",
       "    <tr style=\"text-align: right;\">\n",
       "      <th></th>\n",
       "      <th>UNITID</th>\n",
       "      <th>name</th>\n",
       "      <th>city</th>\n",
       "      <th>state</th>\n",
       "      <th>enrollment</th>\n",
       "      <th>men</th>\n",
       "      <th>women</th>\n",
       "      <th>another_gender</th>\n",
       "      <th>american_indian_or_alaska_native</th>\n",
       "      <th>asian</th>\n",
       "      <th>black</th>\n",
       "      <th>hispanic</th>\n",
       "      <th>native_hawaiian_or_pacific_islander</th>\n",
       "      <th>white</th>\n",
       "      <th>two_or_more</th>\n",
       "      <th>unknown</th>\n",
       "      <th>nonresident</th>\n",
       "    </tr>\n",
       "  </thead>\n",
       "  <tbody>\n",
       "    <tr>\n",
       "      <th>0</th>\n",
       "      <td>100654</td>\n",
       "      <td>Alabama A &amp; M University</td>\n",
       "      <td>Normal</td>\n",
       "      <td>AL</td>\n",
       "      <td>6007</td>\n",
       "      <td>2369</td>\n",
       "      <td>3638</td>\n",
       "      <td>0</td>\n",
       "      <td>16</td>\n",
       "      <td>16</td>\n",
       "      <td>5136</td>\n",
       "      <td>63</td>\n",
       "      <td>8</td>\n",
       "      <td>119</td>\n",
       "      <td>66</td>\n",
       "      <td>473</td>\n",
       "      <td>110</td>\n",
       "    </tr>\n",
       "    <tr>\n",
       "      <th>1</th>\n",
       "      <td>100663</td>\n",
       "      <td>University of Alabama at Birmingham</td>\n",
       "      <td>Birmingham</td>\n",
       "      <td>AL</td>\n",
       "      <td>21639</td>\n",
       "      <td>7903</td>\n",
       "      <td>13736</td>\n",
       "      <td>0</td>\n",
       "      <td>36</td>\n",
       "      <td>1551</td>\n",
       "      <td>4590</td>\n",
       "      <td>1111</td>\n",
       "      <td>10</td>\n",
       "      <td>11055</td>\n",
       "      <td>825</td>\n",
       "      <td>985</td>\n",
       "      <td>1476</td>\n",
       "    </tr>\n",
       "    <tr>\n",
       "      <th>2</th>\n",
       "      <td>100690</td>\n",
       "      <td>Amridge University</td>\n",
       "      <td>Montgomery</td>\n",
       "      <td>AL</td>\n",
       "      <td>647</td>\n",
       "      <td>278</td>\n",
       "      <td>369</td>\n",
       "      <td>0</td>\n",
       "      <td>5</td>\n",
       "      <td>4</td>\n",
       "      <td>356</td>\n",
       "      <td>17</td>\n",
       "      <td>4</td>\n",
       "      <td>247</td>\n",
       "      <td>0</td>\n",
       "      <td>14</td>\n",
       "      <td>0</td>\n",
       "    </tr>\n",
       "    <tr>\n",
       "      <th>3</th>\n",
       "      <td>100706</td>\n",
       "      <td>University of Alabama in Huntsville</td>\n",
       "      <td>Huntsville</td>\n",
       "      <td>AL</td>\n",
       "      <td>9237</td>\n",
       "      <td>5333</td>\n",
       "      <td>3904</td>\n",
       "      <td>0</td>\n",
       "      <td>71</td>\n",
       "      <td>358</td>\n",
       "      <td>833</td>\n",
       "      <td>555</td>\n",
       "      <td>16</td>\n",
       "      <td>6342</td>\n",
       "      <td>354</td>\n",
       "      <td>347</td>\n",
       "      <td>361</td>\n",
       "    </tr>\n",
       "    <tr>\n",
       "      <th>4</th>\n",
       "      <td>100724</td>\n",
       "      <td>Alabama State University</td>\n",
       "      <td>Montgomery</td>\n",
       "      <td>AL</td>\n",
       "      <td>3828</td>\n",
       "      <td>1347</td>\n",
       "      <td>2481</td>\n",
       "      <td>0</td>\n",
       "      <td>8</td>\n",
       "      <td>12</td>\n",
       "      <td>3435</td>\n",
       "      <td>43</td>\n",
       "      <td>3</td>\n",
       "      <td>155</td>\n",
       "      <td>44</td>\n",
       "      <td>35</td>\n",
       "      <td>93</td>\n",
       "    </tr>\n",
       "  </tbody>\n",
       "</table>\n",
       "</div>"
      ],
      "text/plain": [
       "   UNITID                                 name        city state  enrollment  \\\n",
       "0  100654             Alabama A & M University      Normal    AL        6007   \n",
       "1  100663  University of Alabama at Birmingham  Birmingham    AL       21639   \n",
       "2  100690                   Amridge University  Montgomery    AL         647   \n",
       "3  100706  University of Alabama in Huntsville  Huntsville    AL        9237   \n",
       "4  100724             Alabama State University  Montgomery    AL        3828   \n",
       "\n",
       "    men  women  another_gender  american_indian_or_alaska_native  asian  \\\n",
       "0  2369   3638               0                                16     16   \n",
       "1  7903  13736               0                                36   1551   \n",
       "2   278    369               0                                 5      4   \n",
       "3  5333   3904               0                                71    358   \n",
       "4  1347   2481               0                                 8     12   \n",
       "\n",
       "   black  hispanic  native_hawaiian_or_pacific_islander  white  two_or_more  \\\n",
       "0   5136        63                                    8    119           66   \n",
       "1   4590      1111                                   10  11055          825   \n",
       "2    356        17                                    4    247            0   \n",
       "3    833       555                                   16   6342          354   \n",
       "4   3435        43                                    3    155           44   \n",
       "\n",
       "   unknown  nonresident  \n",
       "0      473          110  \n",
       "1      985         1476  \n",
       "2       14            0  \n",
       "3      347          361  \n",
       "4       35           93  "
      ]
     },
     "execution_count": 3,
     "metadata": {},
     "output_type": "execute_result"
    }
   ],
   "source": [
    "df.head()"
   ]
  },
  {
   "cell_type": "markdown",
   "id": "9ab6cd35-df84-4832-96d2-6d60fcf593dc",
   "metadata": {},
   "source": [
    "### Show me the highest enrollment NUMBER of a college in this dataset\n",
    "\n",
    "I don't need the name of the college, just the number of students enrolled at the college with the most students."
   ]
  },
  {
   "cell_type": "code",
   "execution_count": null,
   "id": "04d8b923-93de-411a-9c3c-dc95f833da27",
   "metadata": {},
   "outputs": [],
   "source": []
  },
  {
   "cell_type": "markdown",
   "id": "d1d48433-f657-44d7-933e-8a888a82bf01",
   "metadata": {},
   "source": [
    "### Show me the total enrollment added together across all of the colleges in this dataset"
   ]
  },
  {
   "cell_type": "code",
   "execution_count": null,
   "id": "1517cb22-3fd7-4cf3-af52-29064369b826",
   "metadata": {},
   "outputs": [],
   "source": []
  },
  {
   "cell_type": "markdown",
   "id": "ab5af8af-1cb4-41b9-84c9-16687bb715a7",
   "metadata": {},
   "source": [
    "### Show me the median enrollment across all colleges in this dataset"
   ]
  },
  {
   "cell_type": "code",
   "execution_count": null,
   "id": "ddf3413b-5150-4129-ba41-0b90f906f1e0",
   "metadata": {},
   "outputs": [],
   "source": []
  },
  {
   "cell_type": "markdown",
   "id": "38eccb43-a67e-48c9-900a-4cdc0ef88762",
   "metadata": {},
   "source": [
    "### What is the total number of Black students across all colleges in this dataset?"
   ]
  },
  {
   "cell_type": "code",
   "execution_count": null,
   "id": "295cf34e-3488-44bc-9c49-a60499d614b3",
   "metadata": {},
   "outputs": [],
   "source": []
  },
  {
   "cell_type": "markdown",
   "id": "34a1a5ca-9ff8-403d-9c7f-2fceabb32077",
   "metadata": {},
   "source": [
    "### What is the total number of white students across all colleges in this dataset?"
   ]
  },
  {
   "cell_type": "code",
   "execution_count": null,
   "id": "5716a69c-bd86-4c67-b807-7891189bbc4f",
   "metadata": {},
   "outputs": [],
   "source": []
  },
  {
   "cell_type": "markdown",
   "id": "39dfc940-c4f1-42c2-b3a6-496a464e8ed4",
   "metadata": {},
   "source": [
    "### Show me all of the colleges with more than 80,000 students enrolled"
   ]
  },
  {
   "cell_type": "code",
   "execution_count": null,
   "id": "9d1cefc6-4c9b-404a-a9b6-0497df36d6d0",
   "metadata": {},
   "outputs": [],
   "source": []
  },
  {
   "cell_type": "markdown",
   "id": "a0717c7d-32bb-4655-8d37-9a96b8d61856",
   "metadata": {},
   "source": [
    "### List the names and states of the colleges where enrollment is above 100,000"
   ]
  },
  {
   "cell_type": "code",
   "execution_count": null,
   "id": "15931a7f-903b-4eb9-ab48-269efbd00ca1",
   "metadata": {},
   "outputs": [],
   "source": []
  },
  {
   "cell_type": "markdown",
   "id": "b446107b-e0d0-4a88-b37b-ab3463cd0ef1",
   "metadata": {},
   "source": [
    "### Show me the states of colleges where another_gender is more than 0, then perform a value_counts()."
   ]
  },
  {
   "cell_type": "code",
   "execution_count": null,
   "id": "2bb60467-4afb-45a2-bdad-c24d56058119",
   "metadata": {},
   "outputs": [],
   "source": []
  },
  {
   "cell_type": "markdown",
   "id": "0023f433-019b-4b90-9346-4ddcf1592418",
   "metadata": {},
   "source": [
    "### Show me the colleges with highest enrollment of native_hawaiian_or_pacific_islander sorted in order from highest to lowest, and cliped to just the top 10 (use head(10))."
   ]
  },
  {
   "cell_type": "code",
   "execution_count": null,
   "id": "d8cc4c82-8f2f-4a52-8517-40780981a169",
   "metadata": {},
   "outputs": [],
   "source": []
  },
  {
   "cell_type": "markdown",
   "id": "e7a71606-f543-4178-bf81-ffeb2d5add03",
   "metadata": {},
   "source": [
    "### Show me the colleges with highest enrollment of nonresidents sorted in order from highest to lowest, and cliped to just the top 10 (use head(10))."
   ]
  },
  {
   "cell_type": "code",
   "execution_count": null,
   "id": "5113164a-e205-4477-a1c4-6fa7a662a323",
   "metadata": {},
   "outputs": [],
   "source": []
  },
  {
   "cell_type": "markdown",
   "id": "9d5a71d7-c623-432d-863a-c26a86ef401b",
   "metadata": {},
   "source": [
    "### Show me the colleges with highest MEDIAN enrollment of Asian sorted in order from highest to lowest, and cliped to just the top 10 (use head(10))."
   ]
  },
  {
   "cell_type": "code",
   "execution_count": null,
   "id": "d12ab5af-91ae-4092-8caa-9a2638e49819",
   "metadata": {},
   "outputs": [],
   "source": []
  },
  {
   "cell_type": "markdown",
   "id": "ee59fc52-97e3-4886-85ff-8e99595cb874",
   "metadata": {},
   "source": [
    "### Show me the MEDIAN enrollment of WOMEN by STATE sorted in order from highest to lowest.\n",
    "Note, I don't need the names of individual colleges anymore, just the states."
   ]
  },
  {
   "cell_type": "code",
   "execution_count": null,
   "id": "d7cc74dd-c5d1-40f6-b780-6f84a27f0116",
   "metadata": {},
   "outputs": [],
   "source": []
  },
  {
   "cell_type": "markdown",
   "id": "14b4199b-d7bd-4d74-b0da-3e8828afaa7b",
   "metadata": {},
   "source": [
    "### Same chart as above, except clip to the top 10 and make a horizontal bar chart\n",
    "\n",
    "Don't worry about sorting from highest to lowest any more."
   ]
  },
  {
   "cell_type": "code",
   "execution_count": null,
   "id": "0db72ff1-dc17-4faf-a0d5-3c22ff0c78e9",
   "metadata": {},
   "outputs": [],
   "source": []
  }
 ],
 "metadata": {
  "kernelspec": {
   "display_name": "Python 3 (ipykernel)",
   "language": "python",
   "name": "python3"
  },
  "language_info": {
   "codemirror_mode": {
    "name": "ipython",
    "version": 3
   },
   "file_extension": ".py",
   "mimetype": "text/x-python",
   "name": "python",
   "nbconvert_exporter": "python",
   "pygments_lexer": "ipython3",
   "version": "3.13.2"
  }
 },
 "nbformat": 4,
 "nbformat_minor": 5
}
