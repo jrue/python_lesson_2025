{
 "cells": [
  {
   "cell_type": "markdown",
   "id": "f2e9e752-24a7-4ba4-86cb-eba91e60622a",
   "metadata": {},
   "source": [
    "## For Loops in Python\n",
    "\n",
    "There is a way to create a piece of code that repeats over and over again. This is helpful when you need to perform a repetitive task multiple times in a row quickly.\n",
    "\n",
    "### **For ... in**\n",
    "\n",
    "The for in loop means you create a variable that will stand for each item in a list or list-like variable. Let's take a look.\n",
    "\n",
    "First, we start with a list:"
   ]
  },
  {
   "cell_type": "code",
   "execution_count": 2,
   "id": "f4e48ed7-1628-4374-9e58-b179d48d6709",
   "metadata": {},
   "outputs": [],
   "source": [
    "my_basket = [\"Apple\", \"Banana\", \"Cherry\", \"Grape\", \"Lemon\", \"Lime\", \"Orange\", \"Pear\", \"Pineapple\", \"Plum\", \"Strawberry\"]"
   ]
  },
  {
   "cell_type": "markdown",
   "id": "22699e50-8b5d-4928-ba7c-3a8cade84455",
   "metadata": {},
   "source": [
    "Just as a reminder, let's recall one of the values: What do you think will show if we run the next line of code?"
   ]
  },
  {
   "cell_type": "code",
   "execution_count": 13,
   "id": "25ef88f6-5b0a-4314-af52-5076ec54cdec",
   "metadata": {},
   "outputs": [
    {
     "data": {
      "text/plain": [
       "'Lemon'"
      ]
     },
     "execution_count": 13,
     "metadata": {},
     "output_type": "execute_result"
    }
   ],
   "source": [
    "my_basket[4]"
   ]
  },
  {
   "cell_type": "markdown",
   "id": "dbf64290-cf89-42b1-bf61-7632a7056f25",
   "metadata": {},
   "source": [
    "What about `my_basket[0]`?"
   ]
  },
  {
   "cell_type": "code",
   "execution_count": 14,
   "id": "c23bd4b7-b430-4beb-a1b7-98638f56e2d3",
   "metadata": {},
   "outputs": [
    {
     "data": {
      "text/plain": [
       "'Apple'"
      ]
     },
     "execution_count": 14,
     "metadata": {},
     "output_type": "execute_result"
    }
   ],
   "source": [
    "my_basket[0]"
   ]
  },
  {
   "cell_type": "markdown",
   "id": "9d825dba-ffec-40cb-9027-298864594970",
   "metadata": {},
   "source": [
    "Now let's create a for loop. The first variable `fruit` we created arbitrarily. "
   ]
  },
  {
   "cell_type": "code",
   "execution_count": 15,
   "id": "26ff7f8a-2d9f-4dea-8056-303b9e0a9a5c",
   "metadata": {},
   "outputs": [
    {
     "name": "stdout",
     "output_type": "stream",
     "text": [
      "Apple\n",
      "Banana\n",
      "Cherry\n",
      "Grape\n",
      "Lemon\n",
      "Lime\n",
      "Orange\n",
      "Pear\n",
      "Pineapple\n",
      "Plum\n",
      "Strawberry\n"
     ]
    }
   ],
   "source": [
    "for fruit in my_basket:\n",
    "    print(fruit)"
   ]
  },
  {
   "cell_type": "markdown",
   "id": "b0184075-55f7-40d8-9f99-a77c9d3b86b0",
   "metadata": {},
   "source": [
    "Every time this loop is run, we print out the value of the fruit variable. Why do we have the print statement? Well, the other way we've been listing a variable by itself in a cell only allows us to do this once per cell. So it doesn't work in a loop. Instead, we can use `print()` which is a method built into Python to output the value of a cell.\n",
    "\n",
    "The variable fruit is abritrary. We could have used anything here. Let's try that again with a different variable:"
   ]
  },
  {
   "cell_type": "code",
   "execution_count": 16,
   "id": "c2168b84-895e-4811-a91f-7adea318a8fb",
   "metadata": {},
   "outputs": [
    {
     "name": "stdout",
     "output_type": "stream",
     "text": [
      "Apple\n",
      "Banana\n",
      "Cherry\n",
      "Grape\n",
      "Lemon\n",
      "Lime\n",
      "Orange\n",
      "Pear\n",
      "Pineapple\n",
      "Plum\n",
      "Strawberry\n"
     ]
    }
   ],
   "source": [
    "for sdfkdsfsd in my_basket:\n",
    "    print(sdfkdsfsd)"
   ]
  },
  {
   "cell_type": "markdown",
   "id": "b9479977-7dad-4d6e-91fe-aca1873815d8",
   "metadata": {},
   "source": [
    "Let's try performing some operations inside our loop, like pluralizing the words"
   ]
  },
  {
   "cell_type": "code",
   "execution_count": 17,
   "id": "0331aa9e-d074-4096-a975-91a3e34ceaca",
   "metadata": {},
   "outputs": [
    {
     "name": "stdout",
     "output_type": "stream",
     "text": [
      "Apples\n",
      "Bananas\n",
      "Cherrys\n",
      "Grapes\n",
      "Lemons\n",
      "Limes\n",
      "Oranges\n",
      "Pears\n",
      "Pineapples\n",
      "Plums\n",
      "Strawberrys\n"
     ]
    }
   ],
   "source": [
    "for fruit in my_basket:\n",
    "    print(fruit + \"s\")"
   ]
  },
  {
   "cell_type": "markdown",
   "id": "44f45068-461a-4d88-b183-3c7dfde0c03e",
   "metadata": {},
   "source": [
    "We concatenated the words. Except, two of the fruits, Cherry and Strawberry, aren't spelled correctly because in English, many words ending in y use ies to pluralize it. How can we fix that? Well, that's where conditionals come into play. \n",
    "\n",
    "## **Conditionals**\n",
    "\n",
    "With a conditional, we can ask the question if two things are true. If they are, we'll get a boolean value back."
   ]
  },
  {
   "cell_type": "code",
   "execution_count": 18,
   "id": "537861ef-8c6d-4347-a780-2638aeb299fb",
   "metadata": {},
   "outputs": [
    {
     "data": {
      "text/plain": [
       "True"
      ]
     },
     "execution_count": 18,
     "metadata": {},
     "output_type": "execute_result"
    }
   ],
   "source": [
    "5 == 5"
   ]
  },
  {
   "cell_type": "code",
   "execution_count": 19,
   "id": "b6998b63-a4bb-48bf-83a6-c63904d7f23a",
   "metadata": {},
   "outputs": [
    {
     "data": {
      "text/plain": [
       "False"
      ]
     },
     "execution_count": 19,
     "metadata": {},
     "output_type": "execute_result"
    }
   ],
   "source": [
    "5 == 6"
   ]
  },
  {
   "cell_type": "markdown",
   "id": "d984f385-9aa2-4e4e-9997-17ea900acc3d",
   "metadata": {},
   "source": [
    "We can also ask if two things are true."
   ]
  },
  {
   "cell_type": "code",
   "execution_count": 20,
   "id": "a0d5e1d5-00ac-4b1f-9f7a-094548ae3aa2",
   "metadata": {},
   "outputs": [
    {
     "data": {
      "text/plain": [
       "True"
      ]
     },
     "execution_count": 20,
     "metadata": {},
     "output_type": "execute_result"
    }
   ],
   "source": [
    "(5 > 4) & (8 > 7)"
   ]
  },
  {
   "cell_type": "markdown",
   "id": "9c5cec34-f959-4d8e-98b6-4529154d88d5",
   "metadata": {},
   "source": [
    "But when using the AND operator (&) if either side is false, the whole things is false."
   ]
  },
  {
   "cell_type": "code",
   "execution_count": 21,
   "id": "c97c49d0-0da1-42e2-b071-61c98e32fb65",
   "metadata": {},
   "outputs": [
    {
     "data": {
      "text/plain": [
       "False"
      ]
     },
     "execution_count": 21,
     "metadata": {},
     "output_type": "execute_result"
    }
   ],
   "source": [
    "(4 > 5) & (8 > 7)"
   ]
  },
  {
   "cell_type": "code",
   "execution_count": 22,
   "id": "8f56eb7d-a85f-46e2-bd13-13aba339023d",
   "metadata": {},
   "outputs": [
    {
     "data": {
      "text/plain": [
       "True"
      ]
     },
     "execution_count": 22,
     "metadata": {},
     "output_type": "execute_result"
    }
   ],
   "source": [
    "(4 > 5) | (8 > 7)"
   ]
  },
  {
   "cell_type": "markdown",
   "id": "8acf09f2-47b8-4da1-b5c5-9d4408bb9981",
   "metadata": {},
   "source": [
    "Witht he OR operator (|) if either side is true, the whole thing is true. The only way an OR fails is if every expression is false."
   ]
  },
  {
   "cell_type": "markdown",
   "id": "f6f219ae-17b3-4e1d-becf-250311470813",
   "metadata": {},
   "source": [
    "## If statements\n",
    "\n",
    "Armed with this knowledge, we can create an `if` statement to ask a question whether two things are true, and if so, perform some code. We can pair it with an optional `else` statement to run alternative code if the statement is actually false. "
   ]
  },
  {
   "cell_type": "code",
   "execution_count": 26,
   "id": "1f95c789-d139-4c90-a851-ce74c01a19da",
   "metadata": {},
   "outputs": [
    {
     "name": "stdout",
     "output_type": "stream",
     "text": [
      "The statement is true\n"
     ]
    }
   ],
   "source": [
    "if (4 < 5):\n",
    "    print(\"The statement is true\")\n",
    "else:\n",
    "    print(\"The statement is false\")"
   ]
  },
  {
   "cell_type": "code",
   "execution_count": 27,
   "id": "c31f6353-5fe9-4448-8c1f-8eedbf6b4bdc",
   "metadata": {},
   "outputs": [
    {
     "name": "stdout",
     "output_type": "stream",
     "text": [
      "The statement is false\n"
     ]
    }
   ],
   "source": [
    "if (4 < 5) & (5 < 4):\n",
    "    print(\"The statement is true\")\n",
    "else:\n",
    "    print(\"The statement is false\")"
   ]
  },
  {
   "cell_type": "markdown",
   "id": "a6f7e12d-bde1-4817-b68d-5c0ecbafe761",
   "metadata": {},
   "source": [
    "## Back to our fruit basket\n",
    "\n",
    "Now we have a tool for correcting the pluralization of our fruit. We can use the **.endswith()** method built into Python to test whether the string ends with a y, and if so, we can concatenate \"ies\" at the end. \n",
    "\n",
    "In order to remove the y character, we can use the slice tool from list lesson. The slice with a negative one means from the start of the string to one less than the length of the string.\n"
   ]
  },
  {
   "cell_type": "code",
   "execution_count": 29,
   "id": "ed757fe6-4514-46ea-acbb-17a1f4d9d6da",
   "metadata": {},
   "outputs": [
    {
     "name": "stdout",
     "output_type": "stream",
     "text": [
      "Apples\n",
      "Bananas\n",
      "Cherries\n",
      "Grapes\n",
      "Lemons\n",
      "Limes\n",
      "Oranges\n",
      "Pears\n",
      "Pineapples\n",
      "Plums\n",
      "Strawberries\n"
     ]
    }
   ],
   "source": [
    "for fruit in my_basket:\n",
    "    if (fruit.endswith(\"y\")):\n",
    "        print(fruit[:-1] + \"ies\")\n",
    "    else:\n",
    "        print(fruit + \"s\")"
   ]
  },
  {
   "cell_type": "markdown",
   "id": "90c9b012-4256-4c5a-a515-cc4117d6eefb",
   "metadata": {},
   "source": [
    "## Enumerate method\n",
    "\n",
    "There is a method in Python called `enumerate()` which takes a list or list-like variable and changes it to an iterable item with an index number. This simply gives you the ability to provide two variables, one to hold the index number and the other to hold the value of the element in the list at that iteration of the loop. Let's take a look using our my_basket variable."
   ]
  },
  {
   "cell_type": "code",
   "execution_count": 7,
   "id": "727122aa-3473-4c15-9f71-7785cf37c944",
   "metadata": {},
   "outputs": [
    {
     "name": "stdout",
     "output_type": "stream",
     "text": [
      "Index: 0  Fruit: Apple\n",
      "Index: 1  Fruit: Banana\n",
      "Index: 2  Fruit: Cherry\n",
      "Index: 3  Fruit: Grape\n",
      "Index: 4  Fruit: Lemon\n",
      "Index: 5  Fruit: Lime\n",
      "Index: 6  Fruit: Orange\n",
      "Index: 7  Fruit: Pear\n",
      "Index: 8  Fruit: Pineapple\n",
      "Index: 9  Fruit: Plum\n",
      "Index: 10  Fruit: Strawberry\n"
     ]
    }
   ],
   "source": [
    "for i,fruit in enumerate(my_basket):\n",
    "    \n",
    "    print(f\"Index: {i}  Fruit: {fruit}\")"
   ]
  }
 ],
 "metadata": {
  "kernelspec": {
   "display_name": "Python 3 (ipykernel)",
   "language": "python",
   "name": "python3"
  },
  "language_info": {
   "codemirror_mode": {
    "name": "ipython",
    "version": 3
   },
   "file_extension": ".py",
   "mimetype": "text/x-python",
   "name": "python",
   "nbconvert_exporter": "python",
   "pygments_lexer": "ipython3",
   "version": "3.13.2"
  }
 },
 "nbformat": 4,
 "nbformat_minor": 5
}
